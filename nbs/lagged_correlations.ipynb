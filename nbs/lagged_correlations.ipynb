{
 "cells": [
  {
   "cell_type": "markdown",
   "id": "4b6130e6",
   "metadata": {},
   "source": [
    "# Building lagged correlation features\n",
    "\n",
    "> These are Go notebooks: In order to use the GoNB Jupyter Kernel, please install GoNB from here: https://github.com/janpfeifer/gonb\n",
    "\n",
    "Note also that for local package development, you can put: `!*go mod edit -replace \"github.com/umbralcalc/qwakes=/path/to/qwakes\"` at the top of any cell.\n",
    "\n",
    "In this notebook we're going to build the lagged correlation features which will support our Q-Hawkes model of the market states."
   ]
  },
  {
   "cell_type": "code",
   "execution_count": null,
   "id": "d6742860",
   "metadata": {},
   "outputs": [],
   "source": [
    "!*go mod edit -replace \"github.com/umbralcalc/qwakes=/home/robert/Code/qwakes\""
   ]
  },
  {
   "cell_type": "code",
   "execution_count": null,
   "id": "1ba833cc",
   "metadata": {},
   "outputs": [],
   "source": [
    "import (\n",
    "\t\"github.com/umbralcalc/qwakes/pkg/features\"\n",
    "\tgonb_echarts \"github.com/janpfeifer/gonb-echarts\"\n",
    ")\n",
    "\n",
    "%%\n",
    "\n",
    "ticker := \"AAPL\"\n",
    "from := time.Date(2024, 6, 1, 0, 0, 0, 0, time.UTC)\n",
    "to := time.Date(2024, 6, 10, 0, 0, 0, 0, time.UTC)\n",
    "df := features.GetMinutelyAggsDataFrame(ticker, from, to)\n",
    "\n",
    "line := features.NewDataFrameLine(\n",
    "\t&df, \n",
    "\t\"unix_millis_timestamp\", \n",
    "\t\"close\",\n",
    ")\n",
    "xAxis := df.Col(\"unix_millis_timestamp\").Float()\n",
    "yAxis := df.Col(\"close\").Float()\n",
    "line.SetGlobalOptions(\n",
    "\tcharts.WithYAxisOpts(opts.YAxis{\n",
    "\t\tMin: yAxis[0],\n",
    "\t\tMax: yAxis[len(yAxis)-1],\n",
    "\t}),\n",
    "\tcharts.WithXAxisOpts(opts.XAxis{\n",
    "\t\tMin: xAxis[0],\n",
    "\t\tMax: xAxis[len(xAxis)-1],\n",
    "\t}),\n",
    ")\n",
    "\n",
    "gonb_echarts.Display(line, \"width: 1024px; height:400px; background: white;\")"
   ]
  },
  {
   "cell_type": "code",
   "execution_count": null,
   "id": "16930be9",
   "metadata": {},
   "outputs": [],
   "source": []
  }
 ],
 "metadata": {
  "kernelspec": {
   "display_name": "Go (gonb)",
   "language": "go",
   "name": "gonb"
  },
  "language_info": {
   "codemirror_mode": "",
   "file_extension": ".go",
   "mimetype": "text/x-go",
   "name": "go",
   "nbconvert_exporter": "",
   "pygments_lexer": "",
   "version": "go1.24.4"
  }
 },
 "nbformat": 4,
 "nbformat_minor": 5
}
