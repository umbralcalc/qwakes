{
 "cells": [
  {
   "cell_type": "markdown",
   "id": "e09e0168",
   "metadata": {},
   "source": [
    "# Polygon data exploration\n",
    "\n",
    "> These are Go notebooks: In order to use the GoNB Jupyter Kernel, please install GoNB from here: https://github.com/janpfeifer/gonb\n",
    "\n",
    "Note also that for local package development, you can put: `!*go mod edit -replace \"github.com/umbralcalc/qwakes=/path/to/qwakes\"` at the top of any cell.\n",
    "\n",
    "In this notebook we're exploring the stock market data via queries to the polygon API."
   ]
  },
  {
   "cell_type": "code",
   "execution_count": null,
   "id": "5451d51b",
   "metadata": {},
   "outputs": [],
   "source": [
    "import \"github.com/umbralcalc/qwakes/pkg/polygon\"\n",
    "\n",
    "%%\n",
    "\n",
    "ticker := \"AAPL\"\n",
    "layout := \"2006-01-02\"\n",
    "start, _ := time.Parse(layout, \"2024-06-20\")\n",
    "end, _ := time.Parse(layout, \"2024-06-21\")\n",
    "\n",
    "err := polygon.DownloadDailyAggs(ticker, start, end)\n",
    "if err != nil {\n",
    "\tlog.Fatalf(\"Download error: %v\", err)\n",
    "}\n",
    "\n",
    "// No 'flatfile' s3 bucket data on free tier"
   ]
  },
  {
   "cell_type": "code",
   "execution_count": null,
   "id": "c5121589",
   "metadata": {},
   "outputs": [],
   "source": [
    "import \"github.com/umbralcalc/qwakes/pkg/polygon\"\n",
    "\n",
    "%%\n",
    "\n",
    "ticker := \"AAPL\"\n",
    "from := time.Date(2024, 6, 1, 0, 0, 0, 0, time.UTC)\n",
    "to := time.Date(2024, 6, 10, 0, 0, 0, 0, time.UTC)\n",
    "aggs, err := polygon.FetchMinutelyAggs(ticker, from, to)\n",
    "if err != nil {\n",
    "\tlog.Fatalf(\"API error: %v\", err)\n",
    "}\n",
    "\n",
    "for _, agg := range aggs {\n",
    "\tfmt.Printf(\"%s / O:%.2f H:%.2f L:%.2f C:%.2f V:%v\\n\",\n",
    "\t\tagg.Timestamp, agg.Open, agg.High, agg.Low, agg.Close, agg.Volume)\n",
    "}"
   ]
  },
  {
   "cell_type": "code",
   "execution_count": null,
   "id": "9b9fc6e9",
   "metadata": {},
   "outputs": [],
   "source": []
  }
 ],
 "metadata": {
  "kernelspec": {
   "display_name": "Go (gonb)",
   "language": "go",
   "name": "gonb"
  },
  "language_info": {
   "codemirror_mode": "",
   "file_extension": ".go",
   "mimetype": "text/x-go",
   "name": "go",
   "nbconvert_exporter": "",
   "pygments_lexer": "",
   "version": "go1.24.4"
  }
 },
 "nbformat": 4,
 "nbformat_minor": 5
}
